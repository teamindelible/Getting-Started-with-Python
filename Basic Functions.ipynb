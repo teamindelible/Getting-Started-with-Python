{
 "cells": [
  {
   "cell_type": "code",
   "execution_count": 1,
   "metadata": {},
   "outputs": [
    {
     "data": {
      "text/plain": [
       "'Michael Akinola'"
      ]
     },
     "execution_count": 1,
     "metadata": {},
     "output_type": "execute_result"
    }
   ],
   "source": [
    "def string_adder(a = \"\", b = \"\"):\n",
    "    return str(a + \" \" + b)\n",
    "\n",
    "string_adder(a = \"Michael\", b = \"Akinola\")\n",
    "#string_adder()\n",
    "#string_adder(\"$\", \"1000\")"
   ]
  },
  {
   "cell_type": "code",
   "execution_count": 2,
   "metadata": {},
   "outputs": [
    {
     "data": {
      "text/plain": [
       "False"
      ]
     },
     "execution_count": 2,
     "metadata": {},
     "output_type": "execute_result"
    }
   ],
   "source": [
    "# Define a long_word function that accepts a string. \n",
    "# The function should return a Boolean that reflects whether the string has more than 7 characters.\n",
    "# \n",
    "def long_word(a_string):\n",
    "    if len(a_string) > 7:\n",
    "        return True\n",
    "    return False\n",
    "\n",
    "# EXAMPLES:\n",
    "long_word(\"Python\") #=> False\n",
    "# long_word(\"magnificent\") => True"
   ]
  },
  {
   "cell_type": "code",
   "execution_count": 3,
   "metadata": {},
   "outputs": [
    {
     "data": {
      "text/plain": [
       "False"
      ]
     },
     "execution_count": 3,
     "metadata": {},
     "output_type": "execute_result"
    }
   ],
   "source": [
    "# Define a first_longer_than_second function that accepts two string arguments. \n",
    "# The function should return a True if the first string is longer than the second \n",
    "# and False otherwise (including if they are equal in length).\n",
    "#\n",
    "def first_longer_than_second(first, second):\n",
    "    if len(first) > len(second):\n",
    "        return True\n",
    "    return False\n",
    "\n",
    "# EXAMPLES:\n",
    "#first_longer_than_second(\"Python\", \"Ruby\")   => True\n",
    "first_longer_than_second(\"cat\", \"mouse\")     #=> False\n",
    "# first_longer_than_second(\"Steven\", \"Seagal\") => False"
   ]
  },
  {
   "cell_type": "code",
   "execution_count": 4,
   "metadata": {},
   "outputs": [
    {
     "data": {
      "text/plain": [
       "True"
      ]
     },
     "execution_count": 4,
     "metadata": {},
     "output_type": "execute_result"
    }
   ],
   "source": [
    "#Define a same_first_and_last_letter function that accepts a string as an argument. \n",
    "# The function should return a True if the first and last character are equal, and False otherwise\n",
    "# Assume the string will always have 1 or more characters.\n",
    "#\n",
    "def same_first_and_last_letter(word):\n",
    "    if word[0] == word[-1]:\n",
    "        return True\n",
    "    return False\n",
    "\n",
    "# EXAMPLES:\n",
    "# same_first_and_last_letter(\"runner\") => True\n",
    "# same_first_and_last_letter(\"clock\")  => False\n",
    "same_first_and_last_letter(\"q\")      #=> True\n",
    "# same_first_and_last_letter(\"Runner\") #=> False"
   ]
  },
  {
   "cell_type": "code",
   "execution_count": 5,
   "metadata": {},
   "outputs": [
    {
     "data": {
      "text/plain": [
       "18"
      ]
     },
     "execution_count": 5,
     "metadata": {},
     "output_type": "execute_result"
    }
   ],
   "source": [
    "# Define a three_number_sum function that accepts a 3-character string as an argument. \n",
    "# The function should add up the sum of the digits of the string. \n",
    "# HINT: You’ll have to figure out a way to convert the string-ified numbers to integers.\n",
    "#\n",
    "def three_number_sum(x):\n",
    "    return int(x[0]) + int(x[1]) + int(x[2])\n",
    "\n",
    "# EXAMPLES:\n",
    "# three_number_sum(\"123\") => 6\n",
    "three_number_sum(\"567\") #=> 18\n",
    "# three_number_sum(\"444\") => 12\n",
    "# three_number_sum(\"000\") => 0"
   ]
  },
  {
   "cell_type": "code",
   "execution_count": 6,
   "metadata": {},
   "outputs": [
    {
     "data": {
      "text/plain": [
       "'dyn'"
      ]
     },
     "execution_count": 6,
     "metadata": {},
     "output_type": "execute_result"
    }
   ],
   "source": [
    "# Define a first_three_characters function that accepts a string argument.\n",
    "# The function should return the first three characters of the string.\n",
    "#\n",
    "def first_three_characters(string):\n",
    "    return string[0:3]\n",
    "\n",
    "# EXAMPLES:\n",
    "first_three_characters(\"dynasty\") #=> \"dyn\"\n",
    "# first_three_characters(\"empire\") => \"emp\""
   ]
  },
  {
   "cell_type": "code",
   "execution_count": 7,
   "metadata": {},
   "outputs": [
    {
     "data": {
      "text/plain": [
       "'nasty'"
      ]
     },
     "execution_count": 7,
     "metadata": {},
     "output_type": "execute_result"
    }
   ],
   "source": [
    "# Define a last_five_characters function that accepts a string argument. \n",
    "# The function should return the last 5 characters of the string.\n",
    "#\n",
    "def last_five_characters(text):\n",
    "    return text[-5:]\n",
    "\n",
    "# EXAMPLES:\n",
    "last_five_characters(\"dynasty\") #=> \"nasty\"\n",
    "# last_fiee_characters(\"empire\") => \"mpire\""
   ]
  },
  {
   "cell_type": "code",
   "execution_count": 8,
   "metadata": {},
   "outputs": [
    {
     "data": {
      "text/plain": [
       "False"
      ]
     },
     "execution_count": 8,
     "metadata": {},
     "output_type": "execute_result"
    }
   ],
   "source": [
    "# Define a is_palindrome function that accepts a string argument. \n",
    "# The function should return True if the string is spelled the same backwards as it is forwards. \n",
    "# Return False otherwise.\n",
    "#\n",
    "def is_palindrome(word):\n",
    "    if word == word[::-1]:\n",
    "        return True\n",
    "    return False\n",
    "\n",
    "# EXAMPLES:\n",
    "#is_palindrome(\"racecar\") #=> True\n",
    "is_palindrome(\"yummy\")   #=> False"
   ]
  },
  {
   "cell_type": "code",
   "execution_count": 9,
   "metadata": {},
   "outputs": [
    {
     "data": {
      "text/plain": [
       "2"
      ]
     },
     "execution_count": 9,
     "metadata": {},
     "output_type": "execute_result"
    }
   ],
   "source": [
    "# Define a vowel_count function that accepts a string argument.\n",
    "# The function should return the count of vowels in the string.\n",
    "# The 5 vowels are \"a\", \"e\", \"i\", \"o\", and \"u\".\n",
    "# You can assume the string will be in all lowercase.\n",
    "\n",
    "def vowel_count(a_string):\n",
    "    vowels = set(\"aeiou\")\n",
    "    count = 0\n",
    "    for letters in a_string:\n",
    "        if letters in vowels:\n",
    "            count = count + 1\n",
    "    return count\n",
    "\n",
    "vowel_count(\"love\")"
   ]
  },
  {
   "cell_type": "code",
   "execution_count": 10,
   "metadata": {},
   "outputs": [],
   "source": [
    "def vowel_cou(str): \n",
    "    count = 0 \n",
    "    vowel = set(\"aeiouAEIOU\")  \n",
    "    for alphabet in str:  \n",
    "        if alphabet in vowel: \n",
    "            count = count + 1\n",
    "      \n",
    "    print(\"No. of vowels:\", count)"
   ]
  },
  {
   "cell_type": "code",
   "execution_count": 11,
   "metadata": {},
   "outputs": [
    {
     "name": "stdout",
     "output_type": "stream",
     "text": [
      "No. of vowels: 5\n"
     ]
    }
   ],
   "source": [
    "vowel_cou(\"accelerate\")"
   ]
  },
  {
   "cell_type": "code",
   "execution_count": 12,
   "metadata": {},
   "outputs": [
    {
     "data": {
      "text/plain": [
       "4"
      ]
     },
     "execution_count": 12,
     "metadata": {},
     "output_type": "execute_result"
    }
   ],
   "source": [
    "# Define a find_my_letter function that accepts two arguments: a string and a character\n",
    "# The function should return the first index position of the character in the string\n",
    "# The function should return a -1 if the character does not exist in the string\n",
    "\n",
    "def find_my_letter(a_string, a_char):\n",
    "    return a_string.find(a_char)\n",
    "\n",
    "find_my_letter(\"Michelle\", \"e\")\n",
    "# find_my_letter(a_string = \"television\", a_char = \"e\")"
   ]
  },
  {
   "cell_type": "code",
   "execution_count": 13,
   "metadata": {},
   "outputs": [
    {
     "data": {
      "text/plain": [
       "'intelligent'"
      ]
     },
     "execution_count": 13,
     "metadata": {},
     "output_type": "execute_result"
    }
   ],
   "source": [
    "# Define a fancy_cleanup function that accepts a single string argument\n",
    "# The function should clean up the whitespace on both sides of the\n",
    "# argument. It should also replace every occurence of the letter \"g\" with the\n",
    "# letter \"z\" and every occurence of a space with an exclamation point (!).\n",
    "\n",
    "def fancy_cleanup(a_string):\n",
    "    return a_string.strip().replace(\" \", \"e\").replace(\"!\", \"g\")\n",
    "\n",
    "fancy_cleanup(\"  int lli!ent  \")"
   ]
  },
  {
   "cell_type": "code",
   "execution_count": 14,
   "metadata": {},
   "outputs": [
    {
     "data": {
      "text/plain": [
       "'odd'"
      ]
     },
     "execution_count": 14,
     "metadata": {},
     "output_type": "execute_result"
    }
   ],
   "source": [
    "# Define a even_or_odd function that accepts a single integer.\n",
    "# If the integer is even, the function should return the string “even”.\n",
    "# If the integer is odd, the function should return the string “odd”.\n",
    "\n",
    "def even_or_odd(an_integer):\n",
    "    if an_integer % 2 == 0:\n",
    "        return \"even\"\n",
    "    return \"odd\"\n",
    "\n",
    "even_or_odd(23)"
   ]
  },
  {
   "cell_type": "code",
   "execution_count": 15,
   "metadata": {},
   "outputs": [
    {
     "data": {
      "text/plain": [
       "'The value celebrate is truthy'"
      ]
     },
     "execution_count": 15,
     "metadata": {},
     "output_type": "execute_result"
    }
   ],
   "source": [
    "def truthy_or_falsy(an_argument):\n",
    "    if bool(an_argument):\n",
    "        return \"The value \" + str(an_argument) + \" is truthy\"\n",
    "    return \"The value \"  + str(an_argument)  + \" is falsy\"\n",
    "\n",
    "truthy_or_falsy(\"celebrate\")\n",
    "# truthy_or_falsy(an_argument = \"\")\n",
    "# truthy_or_falsy(an_argument = \"shaba\")"
   ]
  },
  {
   "cell_type": "code",
   "execution_count": 16,
   "metadata": {},
   "outputs": [
    {
     "data": {
      "text/plain": [
       "'CHOCOLATE'"
      ]
     },
     "execution_count": 16,
     "metadata": {},
     "output_type": "execute_result"
    }
   ],
   "source": [
    "# Define an up_and_down function that accepts a string argument\n",
    "# If the string consists of all uppercase letters, return a new string\n",
    "# consisting of all lowercase letters. If the string consists of all\n",
    "# lowercase letters, return a new string consisting of all uppercase\n",
    "# characters. If the string has a mix of uppercase and lowercase\n",
    "# characters, return a new string where the casing of each letter is swapped.\n",
    "\n",
    "def up_and_down(string):\n",
    "    if string == string.upper():\n",
    "        return string.lower()\n",
    "    elif string == string.lower():\n",
    "        return string.upper()\n",
    "    else:\n",
    "        return string.swapcase()\n",
    "    \n",
    "up_and_down(\"chocolate\")\n",
    "#up_and_down(\"CHOCOLATE\")\n",
    "#up_and_down(\"Chocolate\")"
   ]
  },
  {
   "cell_type": "code",
   "execution_count": 17,
   "metadata": {},
   "outputs": [
    {
     "data": {
      "text/plain": [
       "12"
      ]
     },
     "execution_count": 17,
     "metadata": {},
     "output_type": "execute_result"
    }
   ],
   "source": [
    "# Declare a negative_energy function that accepts a numeric argument and returns its absolute value. \n",
    "# The absolute value is the number's distance from zero.\n",
    "\n",
    "def negative_energy(number):\n",
    "    return abs(number)\n",
    "\n",
    "negative_energy(12)\n",
    "#negative_energy(-5)"
   ]
  },
  {
   "cell_type": "code",
   "execution_count": 18,
   "metadata": {},
   "outputs": [
    {
     "data": {
      "text/plain": [
       "False"
      ]
     },
     "execution_count": 18,
     "metadata": {},
     "output_type": "execute_result"
    }
   ],
   "source": [
    "# Define a divisible_by_three_and_four function that accepts a number as its argument. \n",
    "# It should return True if the number is evenly divisible by both 3 and 4 . It should return False otherwise.\n",
    "\n",
    "def divisible_by_three_and_four(number):\n",
    "    if number % 3 == 0 and number % 4 == 0:\n",
    "        return True\n",
    "    return False\n",
    "\n",
    "#divisible_by_three_and_four(12)\n",
    "divisible_by_three_and_four(6)"
   ]
  },
  {
   "cell_type": "code",
   "execution_count": 19,
   "metadata": {},
   "outputs": [
    {
     "data": {
      "text/plain": [
       "True"
      ]
     },
     "execution_count": 19,
     "metadata": {},
     "output_type": "execute_result"
    }
   ],
   "source": [
    "# Declare a string_theory function that accepts a string as an argument. \n",
    "# It should return True if the string has more than 3 characters and starts with a capital “S”. It should return False otherwise.\n",
    "\n",
    "def string_theory(string):\n",
    "    if len(string) > 3 and string[0] == \"S\":\n",
    "        return True\n",
    "    return False\n",
    "\n",
    "string_theory(string = \"Shade\")\n",
    "#string_theory(string = \"Max\")\n",
    "#string_theory(string = \"Sam\")"
   ]
  },
  {
   "cell_type": "code",
   "execution_count": 20,
   "metadata": {},
   "outputs": [
    {
     "name": "stdout",
     "output_type": "stream",
     "text": [
      "3\n",
      "2\n",
      "1\n"
     ]
    }
   ],
   "source": [
    "#count down traditional\n",
    "\n",
    "def count_down(final_number):\n",
    "    current_number = final_number\n",
    "    while current_number > 0:\n",
    "        print(current_number)\n",
    "        current_number -= 1\n",
    "        \n",
    "count_down(3)"
   ]
  },
  {
   "cell_type": "code",
   "execution_count": 21,
   "metadata": {},
   "outputs": [
    {
     "name": "stdout",
     "output_type": "stream",
     "text": [
      "3\n",
      "2\n",
      "1\n"
     ]
    }
   ],
   "source": [
    "#count down recurssion\n",
    "\n",
    "def count_down(final_number):\n",
    "    if final_number <= 0:\n",
    "        return\n",
    "    \n",
    "    print(final_number)\n",
    "    count_down(final_number - 1)\n",
    "    \n",
    "count_down(3)"
   ]
  },
  {
   "cell_type": "code",
   "execution_count": 22,
   "metadata": {},
   "outputs": [
    {
     "data": {
      "text/plain": [
       "'norI'"
      ]
     },
     "execution_count": 22,
     "metadata": {},
     "output_type": "execute_result"
    }
   ],
   "source": [
    "#traditional method\n",
    "\n",
    "def reverse(str):\n",
    "    start_index = 0\n",
    "    last_index = len(str) - 1\n",
    "    reversed_string = \"\"    \n",
    "\n",
    "    while last_index >= start_index:\n",
    "        reversed_string += str[last_index]\n",
    "        last_index -= 1\n",
    "\n",
    "    return reversed_string\n",
    "\n",
    "reverse(\"Iron\")"
   ]
  },
  {
   "cell_type": "code",
   "execution_count": 23,
   "metadata": {},
   "outputs": [
    {
     "data": {
      "text/plain": [
       "'nietsniE'"
      ]
     },
     "execution_count": 23,
     "metadata": {},
     "output_type": "execute_result"
    }
   ],
   "source": [
    "#recursion method\n",
    "\n",
    "def reverse_d(str):\n",
    "    if len(str) <= 1:\n",
    "        return str\n",
    "\n",
    "    return str[-1] + reverse_d(str[:-1])\n",
    "\n",
    "#e.g\n",
    "reverse_d(\"Einstein\")"
   ]
  },
  {
   "cell_type": "code",
   "execution_count": 24,
   "metadata": {},
   "outputs": [
    {
     "name": "stdout",
     "output_type": "stream",
     "text": [
      "The factorial of 10 is 3628800\n"
     ]
    }
   ],
   "source": [
    "#factorial\n",
    "\n",
    "def factorial(number_n):\n",
    "    x = 1\n",
    "    for i in range(1,number_n + 1):\n",
    "        x = x * i\n",
    "    print(\"The factorial of\", number_n,\"is\",x) \n",
    "    \n",
    "factorial(10)"
   ]
  },
  {
   "cell_type": "code",
   "execution_count": 25,
   "metadata": {},
   "outputs": [
    {
     "data": {
      "text/plain": [
       "120"
      ]
     },
     "execution_count": 25,
     "metadata": {},
     "output_type": "execute_result"
    }
   ],
   "source": [
    "# Factorial of a number using recursion\n",
    "\n",
    "def factorial(n):\n",
    "    if n == 1:\n",
    "        return n\n",
    "    elif n < 0:\n",
    "        print(\"Sorry, factorial does not exist for negative numbers\")\n",
    "    elif n == 0:\n",
    "        print(\"The factorial of 0 is 1\")\n",
    "    else:\n",
    "        return n * factorial(n-1)\n",
    "    \n",
    "factorial(5)"
   ]
  },
  {
   "cell_type": "code",
   "execution_count": 26,
   "metadata": {},
   "outputs": [
    {
     "data": {
      "text/plain": [
       "15"
      ]
     },
     "execution_count": 26,
     "metadata": {},
     "output_type": "execute_result"
    }
   ],
   "source": [
    "# Define a function product_of_even_indices that accepts a list of numbers. \n",
    "# The list will always have 6 total elements. \n",
    "# The function should return the product (multiplied total) of all numbers at an even index (0, 2, 4).\n",
    "\n",
    "def product_of_even_indices(num_list):\n",
    "    num_list = list(num_list)\n",
    "    return num_list[0] * num_list[2] * num_list[4]\n",
    "\n",
    "product_of_even_indices(num_list = (1,2,3,4,5,6,))"
   ]
  },
  {
   "cell_type": "code",
   "execution_count": 27,
   "metadata": {},
   "outputs": [
    {
     "data": {
      "text/plain": [
       "'t'"
      ]
     },
     "execution_count": 27,
     "metadata": {},
     "output_type": "execute_result"
    }
   ],
   "source": [
    "# Define a function first_letter_of_last_string that accepts a list of strings. \n",
    "# It should return one character — the first letter of the last string in the list. \n",
    "# Assume the list will always have at least one string.\n",
    "\n",
    "def first_letter_of_last_string(string):\n",
    "    string = list(string)\n",
    "    return string[-1][0]\n",
    "\n",
    "first_letter_of_last_string(string = ('ade', 'bambo', 'taiwo'))"
   ]
  },
  {
   "cell_type": "code",
   "execution_count": 28,
   "metadata": {},
   "outputs": [
    {
     "data": {
      "text/plain": [
       "[5, 6, 7, 8]"
      ]
     },
     "execution_count": 28,
     "metadata": {},
     "output_type": "execute_result"
    }
   ],
   "source": [
    "# Define a split_in_two function that accepts a list and a number.\n",
    "# If the number is even, return the list elements from the third element to the end of the list.\n",
    "# If the number is odd, return the list elements from index 0 (inclusive) to 2 (exclusive)\n",
    "\n",
    "def split_into_two(a_list, num):\n",
    "    a_list = list(a_list)\n",
    "    if num % 2 == 0:\n",
    "        return a_list[-4:]\n",
    "    else:\n",
    "        return a_list[:2]\n",
    "    \n",
    "split_into_two((1,2,3,4,5,6,7,8), 8)\n",
    "# split_into_two(a_list = (1,2,3,4,5,6,7,8), num = 7)"
   ]
  },
  {
   "cell_type": "code",
   "execution_count": 29,
   "metadata": {},
   "outputs": [
    {
     "data": {
      "text/plain": [
       "9"
      ]
     },
     "execution_count": 29,
     "metadata": {},
     "output_type": "execute_result"
    }
   ],
   "source": [
    "# Declare a nested_extraction function that accepts a list of lists and an index position.\n",
    "\n",
    "# The function should use the index as the basis of finding both the nested list \n",
    "# and the element from that list with the given index position\n",
    "\n",
    "# You can assume the number of lists will always be equal to \n",
    "# the number of elements within each of them.\n",
    "\n",
    "def nested_extraction(lists, index):\n",
    "    lists = list(lists)\n",
    "    return lists[index][index]\n",
    "\n",
    "nested_extraction(([1,2,3],[4,5,6],[7,8,9]), 2)\n",
    "# nested_extraction(([1,2,3],[4,5,6],[7,8,9]), 1)\n",
    "# nested_extraction(([1,2,3],[4,5,6],[7,8,9]), 0)"
   ]
  },
  {
   "cell_type": "code",
   "execution_count": 30,
   "metadata": {},
   "outputs": [
    {
     "data": {
      "text/plain": [
       "True"
      ]
     },
     "execution_count": 30,
     "metadata": {},
     "output_type": "execute_result"
    }
   ],
   "source": [
    "# Declare a beginning_and_end function that accepts a list of elements.\n",
    "\n",
    "# It should return True if the first and last elements in the list are equal and False if they are unequal.\n",
    "\n",
    "# Assume the list will always have at least 1 element.\n",
    "\n",
    "def beginning_and_end(list_s):\n",
    "    #list_s = list\n",
    "    if list_s[0] == list_s[-1]:\n",
    "        return True\n",
    "    else:\n",
    "        return False\n",
    "    \n",
    "beginning_and_end([1,2,3,4,5,1])\n",
    "# beginning_and_end([1,2,3,4,5])"
   ]
  },
  {
   "cell_type": "code",
   "execution_count": 31,
   "metadata": {},
   "outputs": [
    {
     "data": {
      "text/plain": [
       "True"
      ]
     },
     "execution_count": 31,
     "metadata": {},
     "output_type": "execute_result"
    }
   ],
   "source": [
    "# Declare a long_word_in_collection function that accepts a list and a string. \n",
    "# The function should return True if \n",
    "#   - the word exists in the list AND\n",
    "#   - the word has more than 4 characters.\n",
    "#\n",
    "# words = [\"cat\", \"dog\", \"rhino\"]\n",
    "# long_word_in_collection(words, \"rhino\")  => True\n",
    "# long_word_in_collection(words, \"cat\")    => False\n",
    "# long_word_in_collection(words, \"monkey\") => False\n",
    "\n",
    "def long_word_in_collection(a_list, string):\n",
    "    if string in a_list and len(string) >= 4:\n",
    "        return True\n",
    "    else:\n",
    "        return False\n",
    "    \n",
    "long_word_in_collection(['Mike', 'Sam', 'Ade', 'Wale'], 'Mike')\n",
    "# long_word_in_collection(['Mike', 'Sam', 'Ade', 'Wale'], 'Sam')"
   ]
  },
  {
   "cell_type": "code",
   "execution_count": 32,
   "metadata": {},
   "outputs": [
    {
     "name": "stdout",
     "output_type": "stream",
     "text": [
      "[1, 0, 1, 2]\n"
     ]
    }
   ],
   "source": [
    "# Declare a count_of_a function that accepts a list of strings.\n",
    "# It should return a list with counts of how many “a” characters appear per string.\n",
    "# Do NOT use list comprehension.\n",
    "#\n",
    "# count_of_a([\"alligator\", \"aardvark\", \"albatross\"] => [2, 3, 2]\n",
    "# count_of_a([\"plywood\"]) => [0]\n",
    "# count_of_a([]) => []\n",
    "\n",
    "def count_of_a(letters):\n",
    "    return letters.count(\"a\")\n",
    "\n",
    "letters = [\"ade\", \"mike\", \"sam\", \"alligator\"]\n",
    "print(list(map(count_of_a, letters)))"
   ]
  },
  {
   "cell_type": "code",
   "execution_count": 33,
   "metadata": {},
   "outputs": [
    {
     "name": "stdout",
     "output_type": "stream",
     "text": [
      "[True, False, True, False, True]\n"
     ]
    }
   ],
   "source": [
    "def only_odds(odds):\n",
    "    return (odds % 2) != 0\n",
    "\n",
    "odds = [1,2,3,4,5]\n",
    "print(list(map(only_odds, odds)))"
   ]
  },
  {
   "cell_type": "code",
   "execution_count": 34,
   "metadata": {},
   "outputs": [
    {
     "name": "stdout",
     "output_type": "stream",
     "text": [
      "[2, 3, 2]\n"
     ]
    }
   ],
   "source": [
    "def count_of_a(letters):\n",
    "    return letters.count(\"a\")\n",
    "\n",
    "letters = [\"alligator\", \"aardvark\", \"albatross\"] \n",
    "print(list(map(count_of_a, letters)))"
   ]
  },
  {
   "cell_type": "code",
   "execution_count": 35,
   "metadata": {},
   "outputs": [
    {
     "name": "stdout",
     "output_type": "stream",
     "text": [
      "['silver', 'platinum', 'palladium']\n",
      "[]\n",
      "['platinum', 'palladium']\n",
      "[1, 1, 1, 2]\n",
      "['gold', '$ilver', 'platinum', 'palladium']\n"
     ]
    }
   ],
   "source": [
    "#lambda function\n",
    "\n",
    "metals = [\"gold\", \"silver\", \"platinum\", \"palladium\"]\n",
    "\n",
    "print(list(filter(lambda metal: len(metal) > 5, metals)))\n",
    "print(list(filter(lambda element: len(element) < 4, metals)))\n",
    "print(list(filter(lambda word: \"p\" in word, metals)))\n",
    "print(list(map(lambda word: word.count(\"l\"), metals)))\n",
    "print(list(map(lambda val: val.replace(\"s\", \"$\"), metals)))"
   ]
  },
  {
   "cell_type": "code",
   "execution_count": 36,
   "metadata": {},
   "outputs": [
    {
     "name": "stdout",
     "output_type": "stream",
     "text": [
      "['elephant', 'giraffe', 'cheetah']\n",
      "['elephant', 'giraffe', 'cheetah']\n"
     ]
    }
   ],
   "source": [
    "#list comprehension\n",
    "\n",
    "animals = [\"elephant\", \"horse\", \"cat\", \"giraffe\", \"cheetah\", \"dog\"]\n",
    "long_words = [animal for animal in animals if len(animal) > 5]\n",
    "print(long_words)\n",
    "\n",
    "#filter function\n",
    "def is_long_animal(animal):\n",
    "    return len(animal) > 5\n",
    "\n",
    "print(list(filter(is_long_animal, animals)))"
   ]
  },
  {
   "cell_type": "code",
   "execution_count": 37,
   "metadata": {},
   "outputs": [
    {
     "name": "stdout",
     "output_type": "stream",
     "text": [
      "[64, 512, 3375, 4096, 12167, 74088]\n",
      "[64, 512, 3375, 4096, 12167, 74088]\n",
      "[3, 4, 5, 6, 7]\n"
     ]
    }
   ],
   "source": [
    "#list comprehension\n",
    "\n",
    "numbers = [4, 8, 15, 16, 23, 42]\n",
    "cubes = [number ** 3 for number in numbers]\n",
    "print(cubes)\n",
    "\n",
    "#map function\n",
    "\n",
    "def cube(number):\n",
    "    return number ** 3\n",
    "\n",
    "print(list(map(cube, numbers)))\n",
    "\n",
    "animals = [\"cat\", \"bear\", \"zebra\", \"donkey\", \"cheetah\"]\n",
    "print(list(map(len, animals))) "
   ]
  },
  {
   "cell_type": "code",
   "execution_count": 38,
   "metadata": {},
   "outputs": [
    {
     "data": {
      "text/plain": [
       "[1, 2, 3, 5]"
      ]
     },
     "execution_count": 38,
     "metadata": {},
     "output_type": "execute_result"
    }
   ],
   "source": [
    "# Declare a greater_sum function that accepts two lists of numbers.\n",
    "# It should return the list with the greatest sum.\n",
    "# You can assume the lists will always have different sums.\n",
    "#\n",
    "# greater_sum([1, 2, 3], [1, 2, 4]) => [1, 2, 4]\n",
    "# greater_sum([4, 5], [2, 3, 6])    => [2, 3, 6]\n",
    "# greater_sum([1], [])              => [1]\n",
    "\n",
    "def greater_sum(list_1, list_2):\n",
    "    if sum(list_1) > sum(list_2):\n",
    "        return list_1\n",
    "    else:\n",
    "        return list_2 \n",
    "    \n",
    "greater_sum([1,2,3,4], [1,2,3,5])"
   ]
  },
  {
   "cell_type": "code",
   "execution_count": 39,
   "metadata": {},
   "outputs": [
    {
     "data": {
      "text/plain": [
       "-1"
      ]
     },
     "execution_count": 39,
     "metadata": {},
     "output_type": "execute_result"
    }
   ],
   "source": [
    "# Declare a sum_difference function that accepts two lists of numbers.\n",
    "# It should return the difference between the sum of values in the first and the second one\n",
    "#\n",
    "# sum_difference([1, 2, 3], [1, 2, 4]) => 6 - 7 => -1\n",
    "# sum_difference([4, 5], [2, 3, 6])    => 9 - 11 => -2\n",
    "# sum_difference([1], [])              => 1\n",
    "\n",
    "def sum_difference(list_a, list_b):\n",
    "    return sum(list_a) - sum(list_b)\n",
    "\n",
    "sum_difference([1,2,3,4], [1,2,3,5])"
   ]
  },
  {
   "cell_type": "code",
   "execution_count": 40,
   "metadata": {},
   "outputs": [
    {
     "data": {
      "text/plain": [
       "6"
      ]
     },
     "execution_count": 40,
     "metadata": {},
     "output_type": "execute_result"
    }
   ],
   "source": [
    "def product(numbers):\n",
    "    numbers = list(numbers)\n",
    "    product = 1\n",
    "    for num in numbers:\n",
    "        product = product * num\n",
    "    return product\n",
    "\n",
    "product([1, 2, 3]) #=> 6\n",
    "# product([4, 5, 6, 7]) #=> 840\n",
    "# product([10]) #=> 10"
   ]
  },
  {
   "cell_type": "code",
   "execution_count": 41,
   "metadata": {},
   "outputs": [
    {
     "data": {
      "text/plain": [
       "1"
      ]
     },
     "execution_count": 41,
     "metadata": {},
     "output_type": "execute_result"
    }
   ],
   "source": [
    "# Define a smallest_number function  that accepts a list of numbers.\n",
    "\n",
    "# It should return the smallest value in the list.\n",
    "\n",
    "def smallest_number(numbers):\n",
    "    smallest = numbers[0]\n",
    "    for number in numbers:  \n",
    "        if number < smallest:\n",
    "            smallest = number\n",
    "    return smallest\n",
    "\n",
    "smallest_number([1, 2, 3])     #=> 1\n",
    "# smallest_number([3, 2, 1])     #=> 1\n",
    "# smallest_number([4, 5, 4])     #=> 4\n",
    "# smallest_number([-3, -2, -1])  #=> -3"
   ]
  },
  {
   "cell_type": "code",
   "execution_count": null,
   "metadata": {},
   "outputs": [],
   "source": []
  }
 ],
 "metadata": {
  "kernelspec": {
   "display_name": "Python 3 (ipykernel)",
   "language": "python",
   "name": "python3"
  },
  "language_info": {
   "codemirror_mode": {
    "name": "ipython",
    "version": 3
   },
   "file_extension": ".py",
   "mimetype": "text/x-python",
   "name": "python",
   "nbconvert_exporter": "python",
   "pygments_lexer": "ipython3",
   "version": "3.9.7"
  }
 },
 "nbformat": 4,
 "nbformat_minor": 2
}
