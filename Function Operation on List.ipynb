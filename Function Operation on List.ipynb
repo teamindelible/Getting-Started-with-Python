{
 "cells": [
  {
   "cell_type": "code",
   "execution_count": 2,
   "metadata": {},
   "outputs": [
    {
     "data": {
      "text/plain": [
       "1"
      ]
     },
     "execution_count": 2,
     "metadata": {},
     "output_type": "execute_result"
    }
   ],
   "source": [
    "# Define a smallest_number function  that accepts a list of numbers.\n",
    "# It should return the smallest value in the list.\n",
    "\n",
    "def smallest_number(numbers):\n",
    "    numbers = list(numbers)\n",
    "    smallest = numbers[0]\n",
    "    for number in numbers:\n",
    "        if number < smallest:\n",
    "            smallest = number\n",
    "    return smallest\n",
    "\n",
    "smallest_number((1, 2, 3))     #=> 1\n",
    "# smallest_number([3, 2, 1])     => 1\n",
    "# smallest_number([4, 5, 4])     => 4\n",
    "# smallest_number([-3, -2, -1])  => -3"
   ]
  },
  {
   "cell_type": "code",
   "execution_count": 3,
   "metadata": {},
   "outputs": [
    {
     "data": {
      "text/plain": [
       "8"
      ]
     },
     "execution_count": 3,
     "metadata": {},
     "output_type": "execute_result"
    }
   ],
   "source": [
    "# Define a sum_of_lengths function that accepts a list of strings.\n",
    "# The function should return the sum of the string lengths.\n",
    "\n",
    "def sum_of_lengths(list_of_strings):\n",
    "    sums = 0\n",
    "    for string in list_of_strings:\n",
    "        sums += len(string)\n",
    "    return sums \n",
    "\n",
    "sum_of_lengths([\"Hello\", \"Bob\"]) #=> 8\n",
    "#sum_of_lengths([\"Nonsense\"])     #=> 8"
   ]
  },
  {
   "cell_type": "code",
   "execution_count": 4,
   "metadata": {},
   "outputs": [
    {
     "data": {
      "text/plain": [
       "840"
      ]
     },
     "execution_count": 4,
     "metadata": {},
     "output_type": "execute_result"
    }
   ],
   "source": [
    "# Define a product function that accepts a list of numbers.\n",
    "# The function should return the product of the numbers.\n",
    "# The list will always have at least one value\n",
    "#\n",
    "def product(numbers):\n",
    "    products = 1\n",
    "    for number in numbers:\n",
    "        products *= number\n",
    "    return products\n",
    "\n",
    "\n",
    "#product([1, 2, 3]) #=> 6\n",
    "product([4, 5, 6, 7]) #=> 840\n",
    "#product([10]) #=> 10"
   ]
  },
  {
   "cell_type": "code",
   "execution_count": 5,
   "metadata": {},
   "outputs": [
    {
     "data": {
      "text/plain": [
       "'abcfgh'"
      ]
     },
     "execution_count": 5,
     "metadata": {},
     "output_type": "execute_result"
    }
   ],
   "source": [
    "# Define a function concatenate that accepts a list of strings. \n",
    "# The function should return a concatenated string which consists of all list elements whose length is greater than 2 characters.\n",
    "\n",
    "def concatenate(lists):\n",
    "    concat = \"\"\n",
    "    for string in lists:\n",
    "        if len(string) > 2:\n",
    "            concat += string\n",
    "    return concat\n",
    "\n",
    "#concatenate([\"abc\", \"def\", \"ghi\"])     # => \"abcdefghi\"\n",
    "concatenate([\"abc\", \"de\", \"fgh\", \"ic\"]) #=> \"abcfgh\"\n",
    "# concatenate([\"ab\", \"cd\", \"ef\", \"gh\"])   => \"\""
   ]
  },
  {
   "cell_type": "code",
   "execution_count": 6,
   "metadata": {},
   "outputs": [
    {
     "data": {
      "text/plain": [
       "12"
      ]
     },
     "execution_count": 6,
     "metadata": {},
     "output_type": "execute_result"
    }
   ],
   "source": [
    "# Write a function super_sum that accepts a list of strings. \n",
    "# The function should sum the index positions of the first occurence of the letter “s” in each word. \n",
    "# Not every word is guaranteed to have an “s”.\n",
    "# Don’t use the sum keyword as it’s a built-in keyword.\n",
    "#\n",
    "\n",
    "def super_sum(string_list):\n",
    "    index = 0\n",
    "    for string in string_list:\n",
    "        index += string.find('s')\n",
    "    return index\n",
    "    \n",
    "# super_sum([]) => 0\n",
    "# super_sum([\"mustache\"]) => 2\n",
    "#super_sum([\"mustache\", \"greatest\"]) #=> 8\n",
    "#super_sum([\"mustache\", \"pessimist\"]) #=> 4\n",
    "super_sum([\"mustache\", \"greatest\", \"almost\"]) #=> 12"
   ]
  },
  {
   "cell_type": "code",
   "execution_count": 7,
   "metadata": {},
   "outputs": [
    {
     "data": {
      "text/plain": [
       "0"
      ]
     },
     "execution_count": 7,
     "metadata": {},
     "output_type": "execute_result"
    }
   ],
   "source": [
    "# Define an in_list function that accepts a list of strings and a separate string.\n",
    "# Return the index where the string exists in the list. If the string does not exist, return -1.\n",
    "# Do NOT use the find or index methods.\n",
    "            \n",
    "def in_list(values, target): \n",
    "    for idx, value in enumerate(values):\n",
    "        if target == value:\n",
    "            return idx\n",
    "    return -1\n",
    "\n",
    "strings = [\"enchanted\", \"sparks fly\", \"long live\"]\n",
    "in_list(strings, \"enchanted\")  #==> 0\n",
    "# in_list(strings, \"sparks fly\") ==> 1\n",
    "# in_list(strings, \"fifteen\")    ==> -1\n",
    "# in_list(strings, \"love story\") ==> -1"
   ]
  },
  {
   "cell_type": "code",
   "execution_count": 8,
   "metadata": {},
   "outputs": [
    {
     "data": {
      "text/plain": [
       "-1"
      ]
     },
     "execution_count": 8,
     "metadata": {},
     "output_type": "execute_result"
    }
   ],
   "source": [
    "in_list(strings, \"fifteen\")   # ==> -1"
   ]
  },
  {
   "cell_type": "code",
   "execution_count": 9,
   "metadata": {},
   "outputs": [
    {
     "data": {
      "text/plain": [
       "9"
      ]
     },
     "execution_count": 9,
     "metadata": {},
     "output_type": "execute_result"
    }
   ],
   "source": [
    "# Define a sum_of_values_and_indices function that accepts a list of numbers. \n",
    "# It should return the sum of all of the elements along with their index values.\n",
    "#\n",
    "def sum_of_values_and_indices(numbers):\n",
    "    total = 0\n",
    "    for idx, num in enumerate(numbers):\n",
    "        total += (idx + num)\n",
    "    return total\n",
    "\n",
    "sum_of_values_and_indices([1, 2, 3])    #=> (1 + 0) + (2 + 1) + (3 + 2) => 9\n",
    "# sum_of_values_and_indices([0, 0, 0, 0]) => 6\n",
    "# sum_of_values_and_indices([])           => 0"
   ]
  },
  {
   "cell_type": "code",
   "execution_count": 10,
   "metadata": {},
   "outputs": [
    {
     "data": {
      "text/plain": [
       "[1, 3]"
      ]
     },
     "execution_count": 10,
     "metadata": {},
     "output_type": "execute_result"
    }
   ],
   "source": [
    "# Declare a function same_index_values that accepts two lists.\n",
    "# The function should return a list of the index positions in which the two lists have equal elements\n",
    "#\n",
    "def same_index_values(list_1, list_2):\n",
    "    position = []\n",
    "    for idx, i in enumerate(list_1):\n",
    "        if i == list_2[idx]:\n",
    "            position.append(idx)\n",
    "    return position\n",
    "\n",
    "#same_values([1, 2, 3], [3, 2, 1]) => [1]\n",
    "same_index_values([\"a\", \"b\", \"c\", \"d\"], [\"c\", \"b\", \"a\", \"d\"]) #=> [1, 3]"
   ]
  },
  {
   "cell_type": "code",
   "execution_count": 11,
   "metadata": {},
   "outputs": [
    {
     "data": {
      "text/plain": [
       "15"
      ]
     },
     "execution_count": 11,
     "metadata": {},
     "output_type": "execute_result"
    }
   ],
   "source": [
    "# Declare a sum_from function that accepts two numbers as arguments.\n",
    "# The second number will always be greater than the first number.\n",
    "# The function should return the sum of all numbers from the first number to the second number (inclusive).\n",
    "#\n",
    "def sum_from(number_1, number_2):\n",
    "    summation = 0\n",
    "    for number in range(number_1, number_2 + 1):\n",
    "        summation += number\n",
    "    return summation\n",
    "\n",
    "# sum_from(1, 2)   # 1 + 2 => 3\n",
    "sum_from(1, 5)   # 1 + 2 + 3 + 4 + 5 => 15\n",
    "# sum_from(3, 8)   # 3 + 4 + 5 + 6 + 7 + 8 => 33\n",
    "# sum_from(9, 12)  # 9 + 10 + 11 + 12 => 42"
   ]
  },
  {
   "cell_type": "code",
   "execution_count": 12,
   "metadata": {},
   "outputs": [
    {
     "data": {
      "text/plain": [
       "2"
      ]
     },
     "execution_count": 12,
     "metadata": {},
     "output_type": "execute_result"
    }
   ],
   "source": [
    "# Declare a length_match function that accepts a list of strings and an integer.\n",
    "# It should return a count of the number of strings whose length is equal to the number.\n",
    "#\n",
    "def length_match(strings, interger):\n",
    "    count = 0\n",
    "    for idx, string in enumerate(strings):\n",
    "        if len(string) == interger:\n",
    "            count += 1\n",
    "    return count\n",
    "            \n",
    "length_match([\"cat\", \"dog\", \"kangaroo\", \"mouse\"], 3) #=> 2\n",
    "# length_match([\"cat\", \"dog\", \"kangaroo\", \"mouse\"], 5)) => 1\n",
    "# length_match([\"cat\", \"dog\", \"kangaroo\", \"mouse\"], 4)) => 0\n",
    "# length_match([], 5)) => 0"
   ]
  },
  {
   "cell_type": "code",
   "execution_count": 13,
   "metadata": {},
   "outputs": [],
   "source": [
    "# Given the tuple below, destructure the three values and\n",
    "# assign them to position, city and salary variables\n",
    "# Do NOT use index positions (i.e. job_opening[1])\n",
    "job_opening = (\"Software Engineer\", \"New York City\", 100000)\n",
    "\n",
    "position, city, salary = job_opening\n",
    "\n",
    "# Given the tuple below, \n",
    "# - destructure the first value and assign it to a street variable\n",
    "# - destructure the last value and assign it to a zip_code variable\n",
    "# - destructure the middle two values into a list and assign it to a city_and_state variable\n",
    "address = (\"35 Elm Street\", \"San Francisco\", \"CA\", \"94107\")\n",
    "\n",
    "street, *city_and_state, zip_code = address"
   ]
  },
  {
   "cell_type": "code",
   "execution_count": 14,
   "metadata": {},
   "outputs": [
    {
     "data": {
      "text/plain": [
       "(6, 4)"
      ]
     },
     "execution_count": 14,
     "metadata": {},
     "output_type": "execute_result"
    }
   ],
   "source": [
    "# Declare a sum_of_evens_and_odds function that accepts a tuple of numbers.\n",
    "# It should return a tuple with two numeric values:\n",
    "# -- the sum of the even numbers\n",
    "# -- the sum of the odd numbers.\n",
    "\n",
    "def sum_of_evens_and_odds(numbers):\n",
    "    sum_odd = 0\n",
    "    sum_even = 0\n",
    "    sums = 0, 0\n",
    "    #sums = 0\n",
    "    for num in numbers:\n",
    "        if num%2 == 1:\n",
    "            sum_odd += num\n",
    "        else:\n",
    "            sum_even += num\n",
    "    sums = sum_even, sum_odd\n",
    "    return sums\n",
    "\n",
    "sum_of_evens_and_odds((1, 2, 3, 4)) #=> (6, 4)\n",
    "#sum_of_evens_and_odds((1, 3, 5)) #=> (0, 9)\n",
    "#sum_of_evens_and_odds((2, 4, 6)) #=> (12, 0)"
   ]
  },
  {
   "cell_type": "code",
   "execution_count": 15,
   "metadata": {},
   "outputs": [],
   "source": [
    "# this function returns the smallest and the highest value in a list\n",
    "\n",
    "def s_and_h(numbers):\n",
    "    smallest = numbers[0]\n",
    "    highest = numbers[0]\n",
    "    smallest_and_highest = 0, 0\n",
    "    for number in numbers:\n",
    "        if number < smallest:\n",
    "            smallest = number\n",
    "        for number in numbers:\n",
    "            if number > highest:\n",
    "                highest = number\n",
    "            smallest_and_highest = (smallest, highest)\n",
    "    return smallest_and_highest"
   ]
  },
  {
   "cell_type": "code",
   "execution_count": 16,
   "metadata": {},
   "outputs": [
    {
     "data": {
      "text/plain": [
       "(0, 9)"
      ]
     },
     "execution_count": 16,
     "metadata": {},
     "output_type": "execute_result"
    }
   ],
   "source": [
    "s_and_h([9,1,2,3,0,4,5,6])"
   ]
  },
  {
   "cell_type": "code",
   "execution_count": 17,
   "metadata": {},
   "outputs": [
    {
     "data": {
      "text/plain": [
       "['heart']"
      ]
     },
     "execution_count": 17,
     "metadata": {},
     "output_type": "execute_result"
    }
   ],
   "source": [
    "# Declare a function right_words that accepts a list of words and a number.\n",
    "# Return a new list with the words that have a length equal to the number.\n",
    "# Do NOT use list comprehension.\n",
    "\n",
    "def right_words(words, number):\n",
    "    new_list = []\n",
    "    for word in words:\n",
    "        if len(word) == number:\n",
    "            new_word = new_list.append(word)\n",
    "    return new_list\n",
    "\n",
    "#right_words(['cat', 'dog', 'bean', 'ace', 'heart'], 3)\n",
    "right_words(['cat', 'dog', 'bean', 'ace', 'heart'], 5) #=> ['heart']"
   ]
  },
  {
   "cell_type": "code",
   "execution_count": 18,
   "metadata": {},
   "outputs": [
    {
     "data": {
      "text/plain": [
       "[4, 8, 16, 42]"
      ]
     },
     "execution_count": 18,
     "metadata": {},
     "output_type": "execute_result"
    }
   ],
   "source": [
    "# Define an only_evens function that accepts a list of numbers. \n",
    "# It should return a new list consisting of only the even numbers from the original list.\n",
    "\n",
    "def only_evens(numbers):\n",
    "    even_numbers = []\n",
    "    for number in numbers:\n",
    "        if number % 2 == 0:\n",
    "            even_numbers.append(number)\n",
    "    return even_numbers\n",
    "\n",
    "only_evens([4, 8, 15, 16, 23, 42]) #=> [4, 8, 16, 42]\n",
    "# only_evens([1, 3, 5]) => []\n",
    "# only_evens([])        => []"
   ]
  },
  {
   "cell_type": "code",
   "execution_count": 19,
   "metadata": {},
   "outputs": [
    {
     "data": {
      "text/plain": [
       "['Hello', 'Goodbye']"
      ]
     },
     "execution_count": 19,
     "metadata": {},
     "output_type": "execute_result"
    }
   ],
   "source": [
    "# Define a long_strings function that accepts a list of strings. \n",
    "# It should return a new list consisting of only the strings that have 5 characters or more.\n",
    "\n",
    "def long_strings(strings):\n",
    "    five_plus_strings = []\n",
    "    for string in strings:\n",
    "        if len(string) >= 5:\n",
    "            five_plus_strings.append(string)\n",
    "    return five_plus_strings\n",
    "\n",
    "long_strings([\"Hello\", \"Goodbye\", \"Sam\"]) #=> [\"Hello\", \"Goodbye\"]\n",
    "# long_strings([\"Ace\", \"Cat\", \"Job\"] => []\n",
    "# long_strings([] => []\n"
   ]
  },
  {
   "cell_type": "code",
   "execution_count": 20,
   "metadata": {},
   "outputs": [
    {
     "data": {
      "text/plain": [
       "[1, 2, 4, 8, 16, 32, 64]"
      ]
     },
     "execution_count": 20,
     "metadata": {},
     "output_type": "execute_result"
    }
   ],
   "source": [
    "# Write a factors function that accepts a positive whole number\n",
    "# It should return a list of all of the number's factors in ascending order\n",
    "# HINT: Could the range function be helpful here? Or maybe a while loop?\n",
    "\n",
    "def factors(pwn):\n",
    "    factor_s = []\n",
    "    for number in range(1, pwn + 1):\n",
    "        if pwn % number == 0:\n",
    "            factor_s.append(number)\n",
    "    return factor_s\n",
    "\n",
    "# factors(1)  => [1]\n",
    "# factors(2)  => [1, 2]\n",
    "# factors(10) => [1, 2, 5, 10]\n",
    "factors(64) #=> [1, 2, 4, 8, 16, 32, 64]"
   ]
  },
  {
   "cell_type": "code",
   "execution_count": 21,
   "metadata": {},
   "outputs": [
    {
     "data": {
      "text/plain": [
       "[3]"
      ]
     },
     "execution_count": 21,
     "metadata": {},
     "output_type": "execute_result"
    }
   ],
   "source": [
    "# Declare a delete_all function that accepts a list of strings and a target string\n",
    "# Remove all occurrences of the target string from the list and return it\n",
    "\n",
    "def delete_all(strings, target):\n",
    "    new_list = []\n",
    "    for string in strings:\n",
    "        if string != target:\n",
    "            new_list.append(string)   \n",
    "    return new_list\n",
    "\n",
    "#delete_all([1, 3, 5], 3) #=> [1, 5]\n",
    "delete_all([5, 3, 5], 5) #=> [3]\n",
    "#delete_all([4, 4, 4], 4) #=> []\n",
    "#delete_all([4, 4, 4], 6) #=> [4, 4, 4]"
   ]
  },
  {
   "cell_type": "code",
   "execution_count": 22,
   "metadata": {},
   "outputs": [
    {
     "data": {
      "text/plain": [
       "[10, 30]"
      ]
     },
     "execution_count": 22,
     "metadata": {},
     "output_type": "execute_result"
    }
   ],
   "source": [
    "# Declare a push_or_pop function that accepts a list of numbers\n",
    "# Build up and return a new list by iterating over the list of numbers\n",
    "# If a number is greater than 5, add it to the end of the new list\n",
    "# If a number is less than or equal to 5, remove the last element added to the new list\n",
    "# Assume the order of numbers in the argument will never require removing from an empty list\n",
    "\n",
    "def push_or_pop(numbers):\n",
    "    new_list = []\n",
    "    for number in numbers:\n",
    "        if number > 5:\n",
    "            new_list.append(number)\n",
    "        else:\n",
    "            new_list.pop(-1)\n",
    "    return new_list\n",
    "\n",
    "# push_or_pop([10]) => [10]\n",
    "push_or_pop([10, 4]) #=> []\n",
    "#push_or_pop([10, 20, 30]) #=> [10, 20, 30]\n",
    "#push_or_pop([10, 20, 3, 30, 4, 50, 60]) #=>[10, 50, 60]\n",
    "push_or_pop([10, 20, 2, 30]) #=> [10, 30]"
   ]
  },
  {
   "cell_type": "code",
   "execution_count": 23,
   "metadata": {},
   "outputs": [
    {
     "name": "stdout",
     "output_type": "stream",
     "text": [
      "[('egg', 'water', 'fat'), ('fish', 'beans', 'thin'), ('meat', 'soup', 'short')]\n",
      "My meal today were egg, water and fat.\n",
      "My meal today were fish, beans and thin.\n",
      "My meal today were meat, soup and short.\n"
     ]
    }
   ],
   "source": [
    "bf = [\"egg\", \"fish\", \"meat\"]\n",
    "lc = [\"water\", \"beans\", \"soup\"]\n",
    "dn = [\"fat\", \"thin\", \"short\"]\n",
    "\n",
    "print(list(zip(bf, lc, dn)))\n",
    "\n",
    "for b, l, d in zip(bf, lc, dn):\n",
    "    print(f\"My meal today were {b}, {l} and {d}.\")"
   ]
  },
  {
   "cell_type": "code",
   "execution_count": 24,
   "metadata": {},
   "outputs": [
    {
     "name": "stdout",
     "output_type": "stream",
     "text": [
      "3\n",
      "['egg', 'fish', 'meat']\n",
      "['water', 'beans', 'soup']\n",
      "['fat', 'thin', 'short']\n",
      "3\n",
      "beans\n"
     ]
    }
   ],
   "source": [
    "food = [\n",
    "    [\"egg\", \"fish\", \"meat\"], \n",
    "    [\"water\", \"beans\", \"soup\"], \n",
    "    [\"fat\", \"thin\", \"short\"]\n",
    "]\n",
    "\n",
    "print(len(food)) ##length of list\n",
    "print(food[0]) ##accessing list in food\n",
    "print(food[1])\n",
    "print(food[2])\n",
    "print(len(food[0]))\n",
    "\n",
    "print(food[1][1]) ##accessing elements in list of lists"
   ]
  },
  {
   "cell_type": "code",
   "execution_count": 25,
   "metadata": {},
   "outputs": [
    {
     "name": "stdout",
     "output_type": "stream",
     "text": [
      "['egg', 'fish', 'meat', 'water', 'beans', 'soup', 'fat', 'thin', 'short']\n"
     ]
    }
   ],
   "source": [
    "food = [\n",
    "    [\"egg\", \"fish\", \"meat\"], \n",
    "    [\"water\", \"beans\", \"soup\"], \n",
    "    [\"fat\", \"thin\", \"short\"]\n",
    "]\n",
    "\n",
    "all_food = []\n",
    "for f in food:\n",
    "    for i in f:\n",
    "        all_food.append(i)\n",
    "        \n",
    "print(all_food)"
   ]
  },
  {
   "cell_type": "code",
   "execution_count": 26,
   "metadata": {},
   "outputs": [
    {
     "data": {
      "text/plain": [
       "0"
      ]
     },
     "execution_count": 26,
     "metadata": {},
     "output_type": "execute_result"
    }
   ],
   "source": [
    "# Define a nested_sum function that accepts a list of lists of numbers\n",
    "# The function should return the sum of the values\n",
    "# The list may contain empty lists\n",
    "#\n",
    "def nested_sum(numbers):\n",
    "    sums = 0\n",
    "    for lists in numbers:\n",
    "        for number in lists:\n",
    "            sums = sums + number\n",
    "    return sums\n",
    "\n",
    "#nested_sum([[1, 2, 3], [4, 5]]) #=> # 15\n",
    "# nested_sum([[1, 2, 3], [], [], [4], [5]]) => # 15\n",
    "nested_sum([[]]) #=> 0"
   ]
  },
  {
   "cell_type": "code",
   "execution_count": 27,
   "metadata": {},
   "outputs": [
    {
     "data": {
      "text/plain": [
       "'ABC'"
      ]
     },
     "execution_count": 27,
     "metadata": {},
     "output_type": "execute_result"
    }
   ],
   "source": [
    "# Define a fancy_concatenate function that accepts a list of lists of strings\n",
    "# The function should return a concatenated string\n",
    "# The strings in a list should only be concatenated if the length of the list is 3\n",
    "#\n",
    "def fancy_concatenate(strings):\n",
    "    concat = \"\"\n",
    "    for lists in strings:\n",
    "        for string in lists:\n",
    "            if len(lists) == 3:\n",
    "                concat += string\n",
    "    return concat \n",
    "\n",
    "\n",
    "            \n",
    "# fancy_concatenate([[\"A, \"B\", \"C\"]]) => \"ABC\"\n",
    "#fancy_concatenate([[\"A\", \"B\", \"C\"], [\"D\", \"E\", \"F\"]]) #=> \"ABCDEF\"\n",
    "fancy_concatenate([[\"A\", \"B\", \"C\"], [\"D\", \"E\", \"F\", \"G\"]]) #=> \"ABC\"\n",
    "# fancy_concatenate([[\"A\", \"B\", \"C\"], [\"D\", \"E\"]]) => \"ABC\"\n",
    "# fancy_concatenate([[\"A\", \"B\"], [\"C\", \"D\"]]) => \"\""
   ]
  },
  {
   "cell_type": "code",
   "execution_count": 28,
   "metadata": {},
   "outputs": [
    {
     "name": "stdout",
     "output_type": "stream",
     "text": [
      "['Boston Cream', 'Vanilla Cream', 'Chcocolate Cream']\n",
      "['Boston', 'Vanilla', 'Chcocolate']\n"
     ]
    }
   ],
   "source": [
    "donuts = [\"Boston Cream\",\n",
    "         \"Jelly\", \n",
    "         \"Vanilla Cream\", \n",
    "         \"Chcocolate Cream\"]\n",
    "\n",
    "print([donut for donut in donuts if \"Cream\" in donut]) \n",
    "print([donut.split(\" \")[0] for donut in donuts if \"Cream\" in donut]) "
   ]
  },
  {
   "cell_type": "code",
   "execution_count": 29,
   "metadata": {},
   "outputs": [],
   "source": [
    "# Uncomment the commented lines of code bellow and complete the list comprehension logic\n",
    "\n",
    "# The floats variable should store the floating point values for each string in the values list.\n",
    "values = [\"3.14\", \"9.99\", \"567.324\", \"5.678\"]\n",
    "floats = [float(value) for value in values]\n",
    "\n",
    "# The letters variable should store a list of 5 strings. \n",
    "# Each of the strings should be a character from name concatenated together 3 times.\n",
    "# i.e. ['BBB', 'ooo', 'rrr', 'iii', 'sss']\n",
    "name = \"Boris\"\n",
    "letters = [letter*3 for letter in name]\n",
    "\n",
    "# The 'lengths' list should store a list with the lengths\n",
    "# of each string in the 'elements' list\n",
    "elements = [\"Hydrogen\", \"Helium\", \"Lithium\", \"Boron\", \"Carbon\"]\n",
    "lengths = [len(element) for element in elements]"
   ]
  },
  {
   "cell_type": "code",
   "execution_count": 30,
   "metadata": {},
   "outputs": [
    {
     "data": {
      "text/plain": [
       "[1, 2, 3]"
      ]
     },
     "execution_count": 30,
     "metadata": {},
     "output_type": "execute_result"
    }
   ],
   "source": [
    "# Declare a function destroy_elements that accepts two lists.\n",
    "# It should return a list of all elements from the first list that are NOT contained in the second list.\n",
    "# Use list comprehension in your solution.\n",
    "#\n",
    "def destroy_elements(list_1, list_2):\n",
    "    #return [element for element in list_1 if element not in list_2] #list comprehension\n",
    "    new_list = []\n",
    "    for element in list_1:\n",
    "        if element not in list_2:\n",
    "            new_list.append(element)\n",
    "    return new_list\n",
    "\n",
    "#destroy_elements([1, 2, 3], [1, 2]) #=> [3]\n",
    "#destroy_elements([1, 2, 3], [1, 2, 3]) #=> []\n",
    "destroy_elements([1, 2, 3], [4, 5]) #=> [1, 2, 3]"
   ]
  },
  {
   "cell_type": "code",
   "execution_count": 31,
   "metadata": {},
   "outputs": [
    {
     "data": {
      "text/plain": [
       "[1, 5]"
      ]
     },
     "execution_count": 31,
     "metadata": {},
     "output_type": "execute_result"
    }
   ],
   "source": [
    "def delete_all(strings, target):\n",
    "    return list(filter(lambda x: x != target, strings))\n",
    "\n",
    "delete_all([1, 3, 5], 3) #=> [1, 5]\n",
    "#delete_all([5, 3, 5], 5) #=> [3]\n",
    "#delete_all([4, 4, 4], 4) #=> []\n",
    "#delete_all([4, 4, 4], 6) #=> [4, 4, 4]"
   ]
  },
  {
   "cell_type": "code",
   "execution_count": 32,
   "metadata": {},
   "outputs": [
    {
     "data": {
      "text/plain": [
       "[]"
      ]
     },
     "execution_count": 32,
     "metadata": {},
     "output_type": "execute_result"
    }
   ],
   "source": [
    "def delete_all(strings, target):\n",
    "    return [d for d in strings if d != target]\n",
    "\n",
    "# delete_all([1, 3, 5], 3) => [1, 5]\n",
    "#delete_all([5, 3, 5], 5) #=> [3]\n",
    "delete_all([4, 4, 4], 4) #=> []\n",
    "# delete_all([4, 4, 4], 6) => [4, 4, 4]"
   ]
  },
  {
   "cell_type": "code",
   "execution_count": 33,
   "metadata": {},
   "outputs": [
    {
     "data": {
      "text/plain": [
       "'ocp'"
      ]
     },
     "execution_count": 33,
     "metadata": {},
     "output_type": "execute_result"
    }
   ],
   "source": [
    "# Define an encrypt_message function that accepts a string.\n",
    "# The input string will consist of only alphabetic characters.\n",
    "# The function should return a string where all characters have been moved\n",
    "# \"up\" two spots in the alphabet. For example, \"a\" will become \"c\".\n",
    "\n",
    "def encrypt_message(string):\n",
    "    alphabet = \"abcdefghijklmnopqrstuvwxyz\"\n",
    "    new_string = \"\"\n",
    "    for letter in string:\n",
    "        moved = (alphabet.index(letter) + 2) % 26\n",
    "        new_string += alphabet[moved]\n",
    "    return new_string\n",
    "\n",
    "#encrypt_message(\"abc\")\n",
    "encrypt_message(\"man\")\n",
    "#encrypt_message(\"xyz\")"
   ]
  },
  {
   "cell_type": "code",
   "execution_count": 34,
   "metadata": {},
   "outputs": [
    {
     "data": {
      "text/plain": [
       "'cat er pillar'"
      ]
     },
     "execution_count": 34,
     "metadata": {},
     "output_type": "execute_result"
    }
   ],
   "source": [
    "# Define a cleanup function that accepts a list of strings.\n",
    "# The function should return the strings joined together by a space.\n",
    "# There's one BIG problem -- some of the strings are empty or only consist of spaces!\n",
    "# These should NOT be included in the final string\n",
    "#\n",
    "def cleanup(strings):\n",
    "    result = []\n",
    "    for string in strings:\n",
    "        string = string.strip()\n",
    "        if not string:\n",
    "            continue\n",
    "        result.append(string)\n",
    "    return \" \".join(result)\n",
    "\n",
    "#cleanup([\"cat\", \"er\", \"pillar\"]) #=> \"cat er pillar\"\n",
    "cleanup([\"cat\", \" \", \"er\", \"\", \"pillar\"]) #=> \"cat er pillar\"\n",
    "#cleanup([\"\", \"\", \" \"]) #=> \"\""
   ]
  },
  {
   "cell_type": "code",
   "execution_count": 35,
   "metadata": {},
   "outputs": [
    {
     "name": "stdout",
     "output_type": "stream",
     "text": [
      "['Somebody', 'stole', 'my', 'donut']\n"
     ]
    },
    {
     "data": {
      "text/plain": [
       "[8, 5, 2, 5]"
      ]
     },
     "execution_count": 35,
     "metadata": {},
     "output_type": "execute_result"
    }
   ],
   "source": [
    "# Define a word_lengths function that accepts a string. \n",
    "# It should return a list with the lengths of each word.\n",
    "#\n",
    "def word_lengths(string):\n",
    "    word_length = []\n",
    "    string_list = string.split(\" \")\n",
    "    print(string_list)\n",
    "    for word in string_list:\n",
    "        word_length.append(len(word))\n",
    "    return word_length\n",
    "    \n",
    "#word_lengths(\"Mary Poppins was a nanny\") #=> [4, 7, 3, 1, 5]\n",
    "word_lengths(\"Somebody stole my donut\") #=> [8, 5, 2, 5]"
   ]
  },
  {
   "cell_type": "code",
   "execution_count": 36,
   "metadata": {},
   "outputs": [
    {
     "data": {
      "text/plain": [
       "['cat', 'dog', 'ace']"
      ]
     },
     "execution_count": 36,
     "metadata": {},
     "output_type": "execute_result"
    }
   ],
   "source": [
    "# Declare a function right_words that accepts a list of words and a number.\n",
    "# Return a new list with the words that have a length equal to the number.\n",
    "# Do NOT use list comprehension.\n",
    "#\n",
    "def right_words(words, number):\n",
    "    new_list = []\n",
    "    for word in words:\n",
    "        if len(word) == number:\n",
    "            new_list.append(word)\n",
    "    return new_list\n",
    "            \n",
    "right_words(['cat', 'dog', 'bean', 'ace', 'heart'], 3) #=> ['cat', 'dog', 'ace']\n",
    "# right_words(['cat', 'dog', 'bean', 'ace', 'heart'], 5) => ['heart']\n",
    "# right_words([], 4) => []"
   ]
  },
  {
   "cell_type": "code",
   "execution_count": 37,
   "metadata": {},
   "outputs": [
    {
     "data": {
      "text/plain": [
       "[]"
      ]
     },
     "execution_count": 37,
     "metadata": {},
     "output_type": "execute_result"
    }
   ],
   "source": [
    "# Declare an only_odds function.\n",
    "# It should return a list with only the odd numbers.\n",
    "# Do NOT use list comprehension.\n",
    "#\n",
    "def only_odds(numbers):\n",
    "    new_list = []\n",
    "    for number in numbers:\n",
    "        if number%2 == 1:\n",
    "            new_list.append(number)\n",
    "    return new_list\n",
    "\n",
    "#only_odds([1, 3, 5, 6, 7, 8]) #=>  [1, 3, 5, 7]\n",
    "only_odds([2, 4, 6, 8])       #=>  []"
   ]
  },
  {
   "cell_type": "code",
   "execution_count": 38,
   "metadata": {},
   "outputs": [
    {
     "data": {
      "text/plain": [
       "[2, 3, 2]"
      ]
     },
     "execution_count": 38,
     "metadata": {},
     "output_type": "execute_result"
    }
   ],
   "source": [
    "# Declare a count_of_a function that accepts a list of strings.\n",
    "# It should return a list with counts of how many “a” characters appear per string.\n",
    "# Do NOT use list comprehension.\n",
    "#\n",
    "def count_of_a(words):\n",
    "     return (list(map(lambda lists:lists.count(\"a\"), words)))\n",
    "\n",
    "#words = [\"alligator\", \"aardvark\", \"albatross\"]  #=> [2, 3, 2]\n",
    "#count_of_a(list3)\n",
    "count_of_a([\"alligator\", \"aardvark\", \"albatross\"]) \n",
    "#count_of_a([\"plywood\"]) => [0]\n",
    "# count_of_a([]) => []"
   ]
  }
 ],
 "metadata": {
  "kernelspec": {
   "display_name": "Python 3",
   "language": "python",
   "name": "python3"
  },
  "language_info": {
   "codemirror_mode": {
    "name": "ipython",
    "version": 3
   },
   "file_extension": ".py",
   "mimetype": "text/x-python",
   "name": "python",
   "nbconvert_exporter": "python",
   "pygments_lexer": "ipython3",
   "version": "3.7.1"
  }
 },
 "nbformat": 4,
 "nbformat_minor": 2
}
