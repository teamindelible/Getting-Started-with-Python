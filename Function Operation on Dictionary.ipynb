{
 "cells": [
  {
   "cell_type": "code",
   "execution_count": 1,
   "metadata": {},
   "outputs": [
    {
     "name": "stdout",
     "output_type": "stream",
     "text": [
      "{'danger': 2, 'beware': 3}\n"
     ]
    }
   ],
   "source": [
    "words = [\"danger\", \"beware\", \"danger\", \"beware\", \"beware\"]\n",
    "\n",
    "def count_words(words):\n",
    "    counts = {}\n",
    "    for word in words:\n",
    "        if word in counts:\n",
    "            # counts[word] = counts[word] + 1\n",
    "            counts[word] += 1\n",
    "        else:\n",
    "            counts[word] = 1\n",
    "    return counts\n",
    "\n",
    "print(count_words(words))"
   ]
  },
  {
   "cell_type": "code",
   "execution_count": 2,
   "metadata": {},
   "outputs": [
    {
     "name": "stdout",
     "output_type": "stream",
     "text": [
      "The dictionary before performing remove is : {'Arushi': 22, 'Anuradha': 21, 'Mani': 21, 'Haritha': 21}\n",
      "The dictionary after remove is : {'Arushi': 22, 'Anuradha': 21, 'Haritha': 21}\n"
     ]
    }
   ],
   "source": [
    "test_dict = {\"Arushi\" : 22, \"Anuradha\" : 21, \"Mani\" : 21, \"Haritha\" : 21} \n",
    "  \n",
    "# Printing dictionary before removal \n",
    "print (\"The dictionary before performing remove is : \" + str(test_dict)) \n",
    "  \n",
    "# Using items() + dict comprehension to remove a dict. pair \n",
    "# removes Mani \n",
    "new_dict = {key:val for key, val in test_dict.items() if key != 'Mani'} \n",
    "  \n",
    "# Printing dictionary after removal \n",
    "print (\"The dictionary after remove is : \" + str(new_dict))"
   ]
  },
  {
   "cell_type": "code",
   "execution_count": 3,
   "metadata": {},
   "outputs": [
    {
     "data": {
      "text/plain": [
       "{'B': 2}"
      ]
     },
     "execution_count": 3,
     "metadata": {},
     "output_type": "execute_result"
    }
   ],
   "source": [
    "#36\n",
    "# Declare a  delete_keys function that accepts two arguments: a dictionary and a list of strings. \n",
    "# For each string in the list, if the string exists as a dictionary key, \n",
    "# delete the key-value pair from the dictionary. \n",
    "# If the string does not exist as a dictionary key, avoid an error. \n",
    "# The return value should be the modified dictionary object.\n",
    "\n",
    "def delete_keys(dictn, keys):\n",
    "    for key in keys:\n",
    "        if key in dictn:\n",
    "            del dictn[key]\n",
    "    return dictn\n",
    "\n",
    "dictn = {\"A\": 1, \"B\": 2, \"C\": 3}\n",
    "keys = [\"A\", \"C\"]\n",
    "delete_keys(dictn, keys) #=> {'B': 2}"
   ]
  },
  {
   "cell_type": "code",
   "execution_count": 4,
   "metadata": {},
   "outputs": [
    {
     "data": {
      "text/plain": [
       "{'Sherlock Holmes': 0, 'Hercule Poirot': 1, 'Nancy Drew': 2}"
      ]
     },
     "execution_count": 4,
     "metadata": {},
     "output_type": "execute_result"
    }
   ],
   "source": [
    "# Define a to_dictionary function that accepts a list argument. \n",
    "# The function should return a dictionary where the keys are the strings and the values are their original index positions \n",
    "#in the list.\n",
    "\n",
    "def to_dictionary(lists):\n",
    "    position = {}\n",
    "    for i in range(len(lists)):\n",
    "        position[lists[i]] = i\n",
    "    return position\n",
    "        \n",
    "detectives = [\"Sherlock Holmes\", \"Hercule Poirot\", \"Nancy Drew\"]\n",
    "to_dictionary(detectives) #=> {'Sherlock Holmes': 0, 'Hercule Poirot': 1, 'Nancy Drew': 2}"
   ]
  },
  {
   "cell_type": "code",
   "execution_count": 5,
   "metadata": {},
   "outputs": [
    {
     "data": {
      "text/plain": [
       "{'Sherlock Holmes': 0, 'Hercule Poirot': 1, 'Nancy Drew': 2}"
      ]
     },
     "execution_count": 5,
     "metadata": {},
     "output_type": "execute_result"
    }
   ],
   "source": [
    "detectives = [\"Sherlock Holmes\", \"Hercule Poirot\", \"Nancy Drew\"]\n",
    "detective_index = {detective: detectives.index(detective) for detective in detectives}\n",
    "detective_index"
   ]
  },
  {
   "cell_type": "code",
   "execution_count": 6,
   "metadata": {},
   "outputs": [
    {
     "data": {
      "text/plain": [
       "{6: 1, 9: 2, 7: 2, 4: 1}"
      ]
     },
     "execution_count": 6,
     "metadata": {},
     "output_type": "execute_result"
    }
   ],
   "source": [
    "# Define a length_counts function that accepts a list of strings. \n",
    "# The function should return a dictionary where the keys represent a length and the values represent how many \n",
    "#strings have that length.\n",
    "#\n",
    "def length_counts(lists):\n",
    "    count = {}\n",
    "    for i in lists:\n",
    "        if len(i) in count:\n",
    "            count[len(i)] += 1\n",
    "        else:\n",
    "            count[len(i)] = 1\n",
    "    return count\n",
    "#\n",
    "sa_countries = [\"Brazil\", \"Venezuela\", \"Argentina\", \"Ecuador\", \"Bolivia\", \"Peru\"]\n",
    "length_counts(sa_countries) #=> {6: 1, 9: 2, 7: 2, 4: 1}\n",
    "# There is 1 string with 6 letters, 2 strings with 9 letters, 2 strings with 7 letters, and 1 string with 4 letters."
   ]
  },
  {
   "cell_type": "code",
   "execution_count": 7,
   "metadata": {},
   "outputs": [
    {
     "data": {
      "text/plain": [
       "{'Brazil': 2, 'Argentina': 2, 'Ecuador': 1, 'Peru': 1}"
      ]
     },
     "execution_count": 7,
     "metadata": {},
     "output_type": "execute_result"
    }
   ],
   "source": [
    "def appearance_counts(lists):\n",
    "    count = {}\n",
    "    for word in lists:\n",
    "        if word in count:\n",
    "            count[word] += 1\n",
    "        else:\n",
    "            count[word] = 1\n",
    "    return count\n",
    "#\n",
    "sa_countries = [\"Brazil\", \"Argentina\", \"Brazil\", \"Ecuador\", \"Argentina\", \"Peru\"]\n",
    "appearance_counts(sa_countries)"
   ]
  },
  {
   "cell_type": "code",
   "execution_count": 8,
   "metadata": {},
   "outputs": [
    {
     "data": {
      "text/plain": [
       "{'B': 'A', 'D': 'C', 'F': 'E'}"
      ]
     },
     "execution_count": 8,
     "metadata": {},
     "output_type": "execute_result"
    }
   ],
   "source": [
    "# Declare an invert function that accepts a dictionary object. \n",
    "# The function should return a new dictionary where the keys and values from the original dictionary are inverted. \n",
    "# Each key should now be a value, and each value should be a key. \n",
    "# Assume both the keys and values of the dictionary are immutable.\n",
    "\n",
    "def invert(my_dict):\n",
    "    new_dict = {}\n",
    "    for key, value in my_dict.items():\n",
    "        new_dict[value] = key  \n",
    "    return new_dict\n",
    "\n",
    "#\n",
    "my_dict = {\"A\": \"B\", \"C\": \"D\", \"E\": \"F\"}\n",
    "invert(my_dict) #=> {'B': 'A', 'D': 'C', 'F': 'E'}"
   ]
  },
  {
   "cell_type": "code",
   "execution_count": 9,
   "metadata": {},
   "outputs": [
    {
     "data": {
      "text/plain": [
       "{'B': 'A', 'D': 'C', 'F': 'E'}"
      ]
     },
     "execution_count": 9,
     "metadata": {},
     "output_type": "execute_result"
    }
   ],
   "source": [
    "my_dict = {\"A\": \"B\", \"C\": \"D\", \"E\": \"F\"}\n",
    "inverted = {value: key for key, value in my_dict.items()}\n",
    "inverted"
   ]
  },
  {
   "cell_type": "code",
   "execution_count": 10,
   "metadata": {},
   "outputs": [
    {
     "data": {
      "text/plain": [
       "1"
      ]
     },
     "execution_count": 10,
     "metadata": {},
     "output_type": "execute_result"
    }
   ],
   "source": [
    "# Declare a count_of_value function that accepts a dictionary and an integer.\n",
    "# It should return a count of the number of times the integer appears \n",
    "# as a value among the dictionary’s values.\n",
    "#\n",
    "def count_of_value(my_dict, integer):\n",
    "    count = 0\n",
    "    for key in my_dict:\n",
    "        if my_dict[key] == integer:\n",
    "            count += 1\n",
    "    return count\n",
    "        \n",
    "my_dict = { \"a\" : 5, \"b\" : 3, \"c\" : 5 }\n",
    "#count_of_value(my_dict, 5) #=> 2\n",
    "count_of_value(my_dict, 3) #=> 1"
   ]
  },
  {
   "cell_type": "code",
   "execution_count": 11,
   "metadata": {},
   "outputs": [
    {
     "data": {
      "text/plain": [
       "0"
      ]
     },
     "execution_count": 11,
     "metadata": {},
     "output_type": "execute_result"
    }
   ],
   "source": [
    "# Declare a sum_of_values that accepts a dictionary and a list of strings.\n",
    "# The dictionary will have keys of strings and values of numbers.\n",
    "# The function should return the sum of values for dictionary keys that are also found in the list.\n",
    "#\n",
    "# NOTE: sum is a reserved keyword in Python. Don’t use it as a variable name.\n",
    "#\n",
    "def sum_of_values(my_dict, keys):\n",
    "    sums = 0\n",
    "    for key in keys:\n",
    "        if key in my_dict:\n",
    "            sums += my_dict[key]\n",
    "    return sums\n",
    "\n",
    "my_dict = {\"a\": 5, \"b\": 3, \"c\": 10}\n",
    "#sum_of_values(my_dict, [\"a\"])  #=> 5\n",
    "#sum_of_values(my_dict, [\"a\", \"c\"])  #=> 15\n",
    "# sum_of_values(my_dict, [\"a\", \"c\", \"b\"])  => 18\n",
    "sum_of_values(my_dict, [\"z\"])  #=> 0"
   ]
  },
  {
   "cell_type": "code",
   "execution_count": 12,
   "metadata": {},
   "outputs": [
    {
     "data": {
      "text/plain": [
       "['D', 'A']"
      ]
     },
     "execution_count": 12,
     "metadata": {},
     "output_type": "execute_result"
    }
   ],
   "source": [
    "# Declare a common_elements function that accepts a dictionary\n",
    "# It should return a list with all of the elements that are found\n",
    "# as both a key and a value in the dictionary\n",
    "#\n",
    "# HINT: Use the in operation to check for inclusion in a view or list object\n",
    "#\n",
    "def common_elements(my_dict):\n",
    "    new_list = []\n",
    "    for value in my_dict.values():\n",
    "        if value in my_dict:\n",
    "            new_list.append(value)\n",
    "    return new_list\n",
    "my_dict = {\"A\": \"K\", \"B\": \"D\", \"C\": \"A\", \"D\": \"Z\"}\n",
    "common_elements(my_dict) #=> [\"A\", \"D\"]"
   ]
  },
  {
   "cell_type": "code",
   "execution_count": 13,
   "metadata": {},
   "outputs": [
    {
     "name": "stdout",
     "output_type": "stream",
     "text": [
      "Rio de Janeiro is the capital of Brazil.\n",
      "Abuja is the capital of Nigeria.\n",
      "Washington DC is the capital of Unites States.\n"
     ]
    }
   ],
   "source": [
    "countries = {\"Unites States\": \"Washington DC\", \"Brazil\": \"Rio de Janeiro\", \"Nigeria\": \"Abuja\"}\n",
    "for country, capital in sorted(countries.items()):\n",
    "    print(f\"{capital} is the capital of {country}.\")"
   ]
  },
  {
   "cell_type": "code",
   "execution_count": 14,
   "metadata": {},
   "outputs": [
    {
     "name": "stdout",
     "output_type": "stream",
     "text": [
      "Unites States and Washington DC\n",
      "Brazil and Rio de Janeiro\n",
      "Nigeria and Abuja\n",
      "A and K\n",
      "B and D\n",
      "a and 5\n",
      "b and 3\n"
     ]
    }
   ],
   "source": [
    "attendees = [{\"Unites States\": \"Washington DC\", \"Brazil\": \"Rio de Janeiro\", \"Nigeria\": \"Abuja\"}, \n",
    "            {\"A\": \"K\", \"B\": \"D\"},\n",
    "            { \"a\": 5, \"b\": 3}]\n",
    "\n",
    "for attendee in attendees:\n",
    "    for key, value in attendee.items():\n",
    "        print(f\"{key} and {value}\")"
   ]
  },
  {
   "cell_type": "code",
   "execution_count": 15,
   "metadata": {},
   "outputs": [],
   "source": [
    "# Assign a list of four dictionaries to a \"complexity\" variable below\n",
    "\n",
    "# The first and third dictionaries should have two key-value pairs\n",
    "# For those dictionaries, the keys should be strings and the values should be Booleans\n",
    "\n",
    "# The second and fourth dictionaires should have three key-value pairs\n",
    "# For those dictionaries, the keys shoulds be floats and the values should be list of strings. The lists can be of any length.\n",
    "\n",
    "complexity = [{\"A\": True, \"B\": False}, \n",
    "               {50.00: [\"Washington DC\", \"New York\"], 30.00: [\"Rio de Janeiro\", \"Corinthians\"], 36.00: [\"Abuja\", \"Lagos\"]}, \n",
    "               { \"a\": True, \"b\": False },\n",
    "               {22.0: [\"Ade\", \"Taiwo\"], 21.0: [\"Mike\", \"Tayo\"], 23.0: [\"Anuradha\", \"Mani\"]}]"
   ]
  },
  {
   "cell_type": "code",
   "execution_count": 16,
   "metadata": {},
   "outputs": [
    {
     "data": {
      "text/plain": [
       "{'a': 25, 'b': 25, 'c': 25, 'd': 25}"
      ]
     },
     "execution_count": 16,
     "metadata": {},
     "output_type": "execute_result"
    }
   ],
   "source": [
    "def keywords(**kwargs):\n",
    "    return kwargs\n",
    "\n",
    "keywords(a = 25, b = 25, c = 25, d = 25)"
   ]
  },
  {
   "cell_type": "code",
   "execution_count": 17,
   "metadata": {},
   "outputs": [
    {
     "name": "stdout",
     "output_type": "stream",
     "text": [
      "50\n",
      "33\n",
      "25\n",
      "50\n"
     ]
    }
   ],
   "source": [
    "def keywords(a, b, *args, **kwargs):\n",
    "    print(a + b)\n",
    "    print(sum(args))\n",
    "    total = 0\n",
    "    for value in kwargs.values():\n",
    "        total += value\n",
    "        print(total)\n",
    "\n",
    "keywords(25, 25, 10, 11, 12, c = 25, d = 25)"
   ]
  },
  {
   "cell_type": "code",
   "execution_count": 18,
   "metadata": {},
   "outputs": [
    {
     "data": {
      "text/plain": [
       "True"
      ]
     },
     "execution_count": 18,
     "metadata": {},
     "output_type": "execute_result"
    }
   ],
   "source": [
    "# Declare a plenty_of_arguments function that accepts two parameters (a and b) \n",
    "# and an additional **kwargs parameter.\n",
    "# The function should return True if the sum of a, b, and the \n",
    "# values of the kwargs dictionary is greater than 100. \n",
    "# It should return False otherwise.\n",
    "\n",
    "def plenty_of_arguments(a, b, **kwargs):\n",
    "    c = a + b\n",
    "    if c > 100:\n",
    "        return True\n",
    "    else:\n",
    "        values = 0\n",
    "        for value in kwargs.values():\n",
    "            values += value\n",
    "            result = c + values\n",
    "            if result > 100:\n",
    "                return True\n",
    "        else:\n",
    "            return False\n",
    "#\n",
    "# plenty_of_arguments(20, 30) => False\n",
    "plenty_of_arguments(a = 50, b = 75) #=> True\n",
    "# plenty_of_arguments(a = 50, b = 25, c = 50) => True\n",
    "#plenty_of_arguments(a = 25, b = 25, c = 25, d = 25) #=> False\n",
    "#plenty_of_arguments(a = 25, b = 25, c = 25, d = 26) #=> True"
   ]
  },
  {
   "cell_type": "code",
   "execution_count": 19,
   "metadata": {},
   "outputs": [
    {
     "data": {
      "text/plain": [
       "2.9"
      ]
     },
     "execution_count": 19,
     "metadata": {},
     "output_type": "execute_result"
    }
   ],
   "source": [
    "##unpacking argument dictionary\n",
    "def meter_to_kilometer(x, y):\n",
    "    kilometer = (x/1000) + y\n",
    "    return kilometer\n",
    "\n",
    "stats = {\"x\": 900, \"y\": 2}\n",
    "\n",
    "meter_to_kilometer(**stats)"
   ]
  },
  {
   "cell_type": "code",
   "execution_count": 20,
   "metadata": {},
   "outputs": [
    {
     "data": {
      "text/plain": [
       "{'Java': 4, 'Python': 6, 'C++': 3}"
      ]
     },
     "execution_count": 20,
     "metadata": {},
     "output_type": "execute_result"
    }
   ],
   "source": [
    "#make \n",
    "languages = ['Java', 'Python', 'C++']\n",
    "lengths = {language: len(language) for language in languages}\n",
    "lengths"
   ]
  },
  {
   "cell_type": "code",
   "execution_count": 21,
   "metadata": {},
   "outputs": [
    {
     "data": {
      "text/plain": [
       "{'s': 3,\n",
       " 'u': 2,\n",
       " 'p': 2,\n",
       " 'e': 2,\n",
       " 'r': 2,\n",
       " 'c': 3,\n",
       " 'a': 3,\n",
       " 'l': 3,\n",
       " 'i': 7,\n",
       " 'f': 1,\n",
       " 'g': 1,\n",
       " 't': 1,\n",
       " 'x': 1,\n",
       " 'd': 1,\n",
       " 'o': 2}"
      ]
     },
     "execution_count": 21,
     "metadata": {},
     "output_type": "execute_result"
    }
   ],
   "source": [
    "word = 'supercalifragilisticexpialidocious'\n",
    "letter_counts = {letter: word.count(letter) for letter in word}\n",
    "letter_counts"
   ]
  },
  {
   "cell_type": "code",
   "execution_count": 22,
   "metadata": {},
   "outputs": [
    {
     "data": {
      "text/plain": [
       "{'s': 3, 'u': 2, 'p': 2, 'r': 2, 'l': 3, 't': 1, 'x': 1, 'o': 2}"
      ]
     },
     "execution_count": 22,
     "metadata": {},
     "output_type": "execute_result"
    }
   ],
   "source": [
    "word = 'supercalifragilisticexpialidocious'\n",
    "letter_counts = {letter: word.count(letter) for letter in word if letter > \"j\"}\n",
    "letter_counts"
   ]
  },
  {
   "cell_type": "code",
   "execution_count": 23,
   "metadata": {},
   "outputs": [
    {
     "data": {
      "text/plain": [
       "{'Bobby went to the store on the corner': 8,\n",
       " 'Sally ate a candy bar': 5,\n",
       " 'Justin played on his deluxe piano': 6}"
      ]
     },
     "execution_count": 23,
     "metadata": {},
     "output_type": "execute_result"
    }
   ],
   "source": [
    "sentences = [\n",
    "  \"Bobby went to the store on the corner\",\n",
    "  \"Sally ate a candy bar\",\n",
    "  \"Justin played on his deluxe piano\"\n",
    "]\n",
    " \n",
    "word_counts = { sentence: len(sentence.split(\" \")) for sentence in sentences }\n",
    "word_counts"
   ]
  },
  {
   "cell_type": "code",
   "execution_count": 24,
   "metadata": {},
   "outputs": [
    {
     "name": "stdout",
     "output_type": "stream",
     "text": [
      "{1: 3, 2: 6, 3: 10, 4: 15, 5: 15}\n"
     ]
    }
   ],
   "source": [
    "values = [1, 2, 3, 4, 5]\n",
    "print({ value: sum(values[:index + 2]) for index, value in enumerate(values) })"
   ]
  },
  {
   "cell_type": "code",
   "execution_count": 25,
   "metadata": {},
   "outputs": [
    {
     "data": {
      "text/plain": [
       "{'French Fries': 300, 'Soda': 200}"
      ]
     },
     "execution_count": 25,
     "metadata": {},
     "output_type": "execute_result"
    }
   ],
   "source": [
    "prices = {\n",
    "  \"Big Mac\": 3.99,\n",
    "  \"French Fries\": 0.99,\n",
    "  \"Soda\": 0.99\n",
    "}\n",
    " \n",
    "calories = {\n",
    "  \"Big Mac\": 600,\n",
    "  \"French Fries\": 300,\n",
    "  \"Soda\": 200\n",
    "}\n",
    " \n",
    "cheap_options = {meal: calories[meal] for meal, price in prices.items() if price < 1}\n",
    " \n",
    "cheap_options # {'French Fries': 300, 'Soda': 200}"
   ]
  },
  {
   "cell_type": "code",
   "execution_count": 26,
   "metadata": {},
   "outputs": [
    {
     "data": {
      "text/plain": [
       "{'CBS': 2, 'NBC': 4, 'FOX': 5, 'ABC': 7}"
      ]
     },
     "execution_count": 26,
     "metadata": {},
     "output_type": "execute_result"
    }
   ],
   "source": [
    "# You are writing a Python program to model a remote control\n",
    "# for a television set. Declare a stations_to_numbers\n",
    "# function that accepts a dictionary. The keys will be\n",
    "# channel numbers and the values will be the station names.\n",
    "# For example...\n",
    "# channels = {\n",
    "#   2: \"CBS\",\n",
    "#   4: \"NBC\",\n",
    "#   5: \"FOX\",\n",
    "#   7: \"ABC\"\n",
    "# }\n",
    "def stations_to_numbers(channels):\n",
    "    new_dict = {}\n",
    "    for channel, number in channels.items():\n",
    "        new_dict[number] = channel\n",
    "    return new_dict\n",
    "\n",
    "# The stations_to_numbers function should return an\n",
    "# inverted dictionary where the keys are the station names\n",
    "# and the values are the channel numbers\n",
    "#\n",
    "channels = {2: \"CBS\", 4: \"NBC\", 5: \"FOX\", 7: \"ABC\"}\n",
    "stations_to_numbers(channels)\n",
    "# stations_to_numbers(channels) => {'CBS': 2, 'NBC': 4, 'FOX': 5, 'ABC': 7}"
   ]
  },
  {
   "cell_type": "code",
   "execution_count": 27,
   "metadata": {},
   "outputs": [
    {
     "data": {
      "text/plain": [
       "{'Kingda Ka': 456,\n",
       " 'Top Thrill Dragster': 427,\n",
       " 'Superman: Escape From Krypton': 413}"
      ]
     },
     "execution_count": 27,
     "metadata": {},
     "output_type": "execute_result"
    }
   ],
   "source": [
    "# Declare a coaster_conversion function that accepts a dictionary\n",
    "# The keys of the dictionary will be strings representing roller coasters\n",
    "# The values will be the heights of each coaster in meters\n",
    "#\n",
    "# Return a new dictionary with the same keys.\n",
    "# The values should be the heights converted from meters to feet,\n",
    "# The final values (in feet) should also be rounded to the closest integer\n",
    "# HINT: 1 meter is equal to 3.28084 feet\n",
    "# HINT: The round function rounds a number to the nearest integer\n",
    "#\n",
    "# coasters = {\n",
    "#   \"Kingda Ka\": 139,\n",
    "#   \"Top Thrill Dragster\": 130,\n",
    "#   \"Superman: Escape From Krypton\": 126\n",
    "# }\n",
    "\n",
    "def coaster_conversion(coasters):\n",
    "    new_dict = {}\n",
    "    for coaster, number in coasters.items():\n",
    "        number = number * 3.28084\n",
    "        new_dict[coaster] = round(number)\n",
    "    return new_dict\n",
    "#\n",
    "coasters = {\"Kingda Ka\": 139, \"Top Thrill Dragster\": 130, \"Superman: Escape From Krypton\": 126}\n",
    "coaster_conversion(coasters) #=> {'Kingda Ka': 456, 'Top Thrill Dragster': 426, 'Superman: Escape From Krypton': 413}"
   ]
  },
  {
   "cell_type": "code",
   "execution_count": 28,
   "metadata": {},
   "outputs": [
    {
     "data": {
      "text/plain": [
       "{2: 8, 4: 64, 6: 216, 8: 512, 10: 1000}"
      ]
     },
     "execution_count": 28,
     "metadata": {},
     "output_type": "execute_result"
    }
   ],
   "source": [
    "#write a dictionary comprehension to return a dictionary where the keys are the numbers \n",
    "#and the values are their cubes. \n",
    "#The dictionary should only use the numbers that are even.\n",
    "\n",
    "numbers = [1, 2, 3, 4, 5, 6, 7, 8, 9, 10]\n",
    "cubes = {number: number**3 for number in numbers if number%2 == 0}\n",
    "cubes"
   ]
  },
  {
   "cell_type": "code",
   "execution_count": null,
   "metadata": {},
   "outputs": [],
   "source": []
  }
 ],
 "metadata": {
  "kernelspec": {
   "display_name": "Python 3",
   "language": "python",
   "name": "python3"
  },
  "language_info": {
   "codemirror_mode": {
    "name": "ipython",
    "version": 3
   },
   "file_extension": ".py",
   "mimetype": "text/x-python",
   "name": "python",
   "nbconvert_exporter": "python",
   "pygments_lexer": "ipython3",
   "version": "3.7.1"
  }
 },
 "nbformat": 4,
 "nbformat_minor": 2
}
